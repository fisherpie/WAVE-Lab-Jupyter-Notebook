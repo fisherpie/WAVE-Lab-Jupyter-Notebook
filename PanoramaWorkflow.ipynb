{
 "cells": [
  {
   "cell_type": "markdown",
   "metadata": {},
   "source": [
    "  # CAVEcam workflow\n",
    "  \n",
    " \n",
    " - Seperate photos to L and R folders, and back them up onto PEGASUS drive. The data structure scheme for PEGASUS is as so: \n",
    " > CaveCamSourceImageBackup/StereoPanoramicPhotographsSourceImagesBackup/(location)/(date)/(session)/(left or Right)\n",
    "\n",
    "     \n",
    "     e.g. the first set of photos from the left camera taken in Monterey on Oct 13, 2018 would be saved in:\n",
    "   > CaveCamSourceImageBackup/StereoPanoramicPhotographsSourceImagesBackup/Monterey/20181013/Session00/Left\n",
    "     \n",
    "\n",
    " - Open two instances of the application \"Adobe Bridge\"\n",
    "   In one of them, open the folder with the left images, and in the other, open the folder with the right images.\n",
    "   The photos should be in portrait mode, not in landscape. So select all the photos that are in landscape, and rotate them to portrait. There may also be photos that are test shots included in the folder if the camera handler forgot to reset the file number. These must be excluded at this step.\n",
    "   \n",
    " - Now open PTGuiPro and load all the images for either left or right camera (click \"Load images,\" go to the directory that the images are in, click the first image, then shift click the last image). Open another window of PTGuiPro and do the same for the other camera (left or right). Make sure both sets of images have 98 images, and that they are all in portrait mode. Also make sure that they are roughly the same looking perspective (they'll be slightly different of course, because they are each taken from different cameras, the left camera, and the right camera). Now, on the keyboard click \"command\"+\"G\" (mac). A window that says \"Align to Grid\" shows up. The way the CAVEcam works is that it has 7 rows with 14 pictures for each row. So next to where it says \"Grid,\" type in 7. To the right of that it should say \"rows x\" and then a blank. Type in 14 to that blank. Now, under Horizontal axis, to the right of where it says \"Spacing,\" check in the box that says \"Stretch to a 360 panorama.\" Now, under Vertical axis, and next to \"Spacing,\" check the box that says \"Spaced by\" and in the blank to the right of it, type in 29. Now, click \"apply.\" You may close the window that says \"Align to Grid.\"\n",
    "   - This should be double bullet\n",
    "     - Triple Bullet\n",
    "     \n",
    "  - After the Panaorama has been created, the .tif file must be copied over to the head node in calvr@169.236.196.10:/home/calvr/CVRPlugins/calit2/PanoViewLOD/panoproc. The entire command must be \n",
    "  \"scp -r (location copied from) calvr@169.236.196.10:/home/calvr/CVRPlugins/calit2/PanoViewLOD/panoproc\"\n",
    "  The user must then put in the admin password.\n",
    "  - The file must be compressed using panoproc. Type the command from \"home/calvr/CVRPlugins/calit2/PanoViewLOD/panoproc\"\n",
    "   >\"./panoproc -o FileName-LorR-512-4.tif -d 4 OriginalFileName\"\n",
    "   \n",
    "  The \"FileName-LorR-512-4.tif\" is what the compressed image's name will be. The \"OriginalFileName\" is the name of the file to be compressed.\n",
    "  This command must be done twice, one for the left image and one for the right image.\n",
    "  \n",
    "  - Move the files to data/Pans/PansLOD\n",
    "  - create the XML file for the images in the config directory\n",
    "  - do the \"cp\" command for waveucmerced.xml to waveucmerced.bak\n",
    "  - now edit waveucmerced.xml and add your XML file for the images\n",
    "  - test the images on the WAVE"
   ]
  },
  {
   "cell_type": "code",
   "execution_count": 1,
   "metadata": {},
   "outputs": [],
   "source": [
    "import os\n",
    "\n",
    "import ipywidgets as widgets"
   ]
  },
  {
   "cell_type": "code",
   "execution_count": 2,
   "metadata": {},
   "outputs": [],
   "source": [
    "\n",
    "class FileBrowser(object):\n",
    "    def __init__(self):\n",
    "        self.path = os.getcwd()\n",
    "        self._update_files()\n",
    "        \n",
    "    def _update_files(self):\n",
    "        self.files = list()\n",
    "        self.dirs = list()\n",
    "        if(os.path.isdir(self.path)):\n",
    "            for f in os.listdir(self.path):\n",
    "                ff = self.path + \"/\" + f\n",
    "                if os.path.isdir(ff):\n",
    "                    self.dirs.append(f)\n",
    "                else:\n",
    "                    self.files.append(f)\n",
    "        \n",
    "    def widget(self):\n",
    "        box = widgets.VBox()\n",
    "        self._update(box)\n",
    "        return box\n",
    "    \n",
    "    def _update(self, box):\n",
    "        \n",
    "        def on_click(b):\n",
    "            if b.description == '..':\n",
    "                self.path = os.path.split(self.path)[0]\n",
    "            else:\n",
    "                self.path = self.path + \"/\" + b.description\n",
    "            self._update_files()\n",
    "            self._update(box)\n",
    "        \n",
    "        buttons = []\n",
    "        if self.files:\n",
    "            button = widgets.Button(description='..', background_color='#d0d0ff')\n",
    "            button.on_click(on_click)\n",
    "            buttons.append(button)\n",
    "        for f in self.dirs:\n",
    "            button = widgets.Button(description=f, background_color='#d0d0ff')\n",
    "            button.on_click(on_click)\n",
    "            buttons.append(button)\n",
    "        for f in self.files:\n",
    "            button = widgets.Button(description=f)\n",
    "            button.on_click(on_click)\n",
    "            buttons.append(button)\n",
    "        box.children = tuple([widgets.HTML(\"<h2>%s</h2>\" % (self.path,))] + buttons)\n",
    "# example usage:\n",
    "#   f = FileBrowser()\n",
    "#   f.widget()\n",
    "#   <interact with widget, select a path>\n",
    "# in a separate cell:\n",
    "#   f.path # returns the selected path"
   ]
  },
  {
   "cell_type": "code",
   "execution_count": 3,
   "metadata": {},
   "outputs": [
    {
     "data": {
      "application/vnd.jupyter.widget-view+json": {
       "model_id": "7c36ac86a47e4655b3ca92be0adea7d7",
       "version_major": 2,
       "version_minor": 0
      },
      "text/plain": [
       "VBox(children=(HTML(value='<h2>/Users/alanbohannon</h2>'), Button(description='..', style=ButtonStyle()), Butt…"
      ]
     },
     "metadata": {},
     "output_type": "display_data"
    }
   ],
   "source": [
    "f = FileBrowser()\n",
    "f.widget()"
   ]
  },
  {
   "cell_type": "code",
   "execution_count": 4,
   "metadata": {},
   "outputs": [
    {
     "name": "stdout",
     "output_type": "stream",
     "text": [
      "This will be the path to the images that are on the camera:\n",
      "\n",
      "/Users/alanbohannon\n",
      "\n",
      "Now the user must choose the directory in which the images will be backed up to:\n"
     ]
    },
    {
     "data": {
      "application/vnd.jupyter.widget-view+json": {
       "model_id": "243e96db4c714319aff44364193681c8",
       "version_major": 2,
       "version_minor": 0
      },
      "text/plain": [
       "VBox(children=(HTML(value='<h2>/Users/alanbohannon</h2>'), Button(description='..', style=ButtonStyle()), Butt…"
      ]
     },
     "metadata": {},
     "output_type": "display_data"
    }
   ],
   "source": [
    "ImagesFromCameraLocation = f.path\n",
    "print(\"This will be the path to the images that are on the camera:\\n\")\n",
    "print(ImagesFromCameraLocation)\n",
    "print(\"\\nNow the user must choose the directory in which the images will be backed up to:\")\n",
    "\n",
    "\n",
    "f.widget()       "
   ]
  },
  {
   "cell_type": "code",
   "execution_count": 5,
   "metadata": {},
   "outputs": [
    {
     "name": "stdout",
     "output_type": "stream",
     "text": [
      "This will be the path of where the images will be backed up to:\n",
      "\n",
      "/Users/alanbohannon\n"
     ]
    }
   ],
   "source": [
    "sourceImageBackupLocation = f.path\n",
    "print(\"This will be the path of where the images will be backed up to:\\n\")\n",
    "print(sourceImageBackupLocation)\n"
   ]
  },
  {
   "cell_type": "code",
   "execution_count": null,
   "metadata": {},
   "outputs": [],
   "source": [
    "#ADOBE BRIDGE\n",
    "#if there are less than or more than 98 images for a set, then ask the user to go and inspect the images. \n",
    "#Ask them to input which images to exclude.\n",
    "\n",
    "#Is the only reason why we use Adobe Bridge to rotate the images? \n",
    "#Because if so then we can find a simpler way to do so using automation.\n",
    "\n",
    "\n"
   ]
  }
 ],
 "metadata": {
  "kernelspec": {
   "display_name": "Python 3",
   "language": "python",
   "name": "python3"
  },
  "language_info": {
   "codemirror_mode": {
    "name": "ipython",
    "version": 3
   },
   "file_extension": ".py",
   "mimetype": "text/x-python",
   "name": "python",
   "nbconvert_exporter": "python",
   "pygments_lexer": "ipython3",
   "version": "3.7.0"
  }
 },
 "nbformat": 4,
 "nbformat_minor": 2
}
